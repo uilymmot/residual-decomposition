{
 "cells": [
  {
   "cell_type": "markdown",
   "id": "7f0ed84b-1013-4df8-8d50-1d1192492c03",
   "metadata": {},
   "source": [
    "Estimated Runtime: 10 Minutes.\n",
    "Runtime may differ from those described in the paper based on hardware the code is run on.\n",
    "\n",
    "Required Packages: numpy, pandas, matplotlib, sklearn\n",
    "\n",
    "License: Removed\n",
    "\n",
    "Author: Removed\n",
    "    "
   ]
  },
  {
   "cell_type": "code",
   "execution_count": 1,
   "id": "2713aa3a-aaa1-4833-ac78-7117b73001e5",
   "metadata": {},
   "outputs": [],
   "source": [
    "import numpy as np\n",
    "import pandas as pd\n",
    "import matplotlib.pyplot as plt\n",
    "import time\n",
    "\n",
    "from sklearn.ensemble import RandomForestRegressor \n",
    "from sklearn.metrics import mean_squared_error\n",
    "from sklearn import linear_model\n",
    "import matplotlib as mpl\n",
    "from sklearn.linear_model import Ridge\n",
    "from sklearn.ensemble import IsolationForest\n",
    "from sklearn.neighbors import LocalOutlierFactor\n",
    "from sklearn.decomposition import PCA\n",
    "from sklearn.model_selection import train_test_split\n",
    "import math\n",
    "\n",
    "import ResidualDecomposition as RD\n",
    "\n",
    "np.random.seed(0)"
   ]
  },
  {
   "cell_type": "code",
   "execution_count": 2,
   "id": "7e67c202-8b61-4ed5-a213-f52bc170ff46",
   "metadata": {},
   "outputs": [],
   "source": [
    "data = pd.read_csv(\"Datasets/P_BostonHousing.csv\") \n",
    "X = data.iloc[:,:-1].values\n",
    "Y = data.iloc[:,-1].values\n",
    "k = X.shape[1]\n",
    "N = X.shape[0]\n",
    "\n",
    "lr = Ridge()\n",
    "lr.fit(X, Y)\n",
    "res = lr.predict(X) - Y"
   ]
  },
  {
   "cell_type": "code",
   "execution_count": 3,
   "id": "68931a32-e60b-4ecd-b1e7-3c9df151e01b",
   "metadata": {
    "tags": []
   },
   "outputs": [
    {
     "name": "stdout",
     "output_type": "stream",
     "text": [
      "0\n",
      "50\n",
      "100\n",
      "150\n",
      "200\n",
      "250\n",
      "300\n",
      "350\n",
      "400\n",
      "450\n",
      "500\n",
      "550\n",
      "600\n",
      "650\n",
      "700\n",
      "750\n",
      "800\n",
      "850\n",
      "900\n",
      "950\n"
     ]
    }
   ],
   "source": [
    "t1_mc = time.time()\n",
    "\n",
    "mcrshap = RD.ResidualDecompositionSymmetric()\n",
    "mcrshap.fit(X, Y, lr, 1000)\n",
    "\n",
    "t2_mc = time.time()"
   ]
  },
  {
   "cell_type": "code",
   "execution_count": 4,
   "id": "b8e26189-1733-4304-8aeb-dc184c636625",
   "metadata": {},
   "outputs": [
    {
     "name": "stdout",
     "output_type": "stream",
     "text": [
      "Runtime is 232.57812762260437s\n"
     ]
    }
   ],
   "source": [
    "print(\"Runtime is {}s\".format(t2_mc - t1_mc))"
   ]
  },
  {
   "cell_type": "code",
   "execution_count": null,
   "id": "a2370837-242e-42e7-855b-8580c75204e2",
   "metadata": {},
   "outputs": [],
   "source": []
  },
  {
   "cell_type": "code",
   "execution_count": 5,
   "id": "9d0814e1-045a-4143-815d-2ff558186ff5",
   "metadata": {
    "tags": []
   },
   "outputs": [
    {
     "name": "stdout",
     "output_type": "stream",
     "text": [
      "Runtime is 13.23560357093811s\n"
     ]
    }
   ],
   "source": [
    "t1 = time.time()\n",
    "\n",
    "iRSHAP = RD.ResidualDecompositionSymmetricInfluenceFunctionLinear(X, Y, lr)\n",
    "iRSHAP.All_S_Influence(10000)\n",
    "rshap1 = iRSHAP.residuals_matrix.T\n",
    "\n",
    "t2 = time.time()\n",
    "T2 = t2-t1\n",
    "print(\"Runtime is {}s\".format(t2-t1))"
   ]
  },
  {
   "cell_type": "code",
   "execution_count": 6,
   "id": "1333dff6-11f4-47b8-ba50-74f4f9075328",
   "metadata": {},
   "outputs": [
    {
     "name": "stdout",
     "output_type": "stream",
     "text": [
      "Runtime is 18.06098484992981s\n"
     ]
    }
   ],
   "source": [
    "t1 = time.time()\n",
    "\n",
    "iRSHAP = RD.ResidualDecompositionSymmetricInfluenceFunctionLinear(X, Y, lr)\n",
    "iRSHAP.Largest_S_Influence(10000)\n",
    "rshap2 = iRSHAP.residuals_matrix.T\n",
    "\n",
    "t2 = time.time()\n",
    "T3 = t2-t1\n",
    "print(\"Runtime is {}s\".format(t2-t1))"
   ]
  },
  {
   "cell_type": "code",
   "execution_count": 7,
   "id": "4c4a83e7-76fb-4e19-baba-b6722157600e",
   "metadata": {},
   "outputs": [],
   "source": [
    "lr.fit(X, Y)\n",
    "res = lr.predict(X) - Y\n",
    "\n",
    "rpred = np.sum(rshap1, axis=0)\n",
    "r_contribution1 = ((rshap1.T * -np.sign(res))).T\n",
    "\n",
    "rpred = np.sum(rshap2, axis=0)\n",
    "r_contribution2 = ((rshap2.T * -np.sign(res))).T\n",
    "\n",
    "rpredS = np.sum(mcrshap.phi, axis=0)\n",
    "r_contributionS = ((mcrshap.phi.T * -np.sign(res))).T\n",
    "\n",
    "lr.fit(X, Y)\n",
    "res = lr.predict(X) - Y"
   ]
  },
  {
   "cell_type": "code",
   "execution_count": 8,
   "id": "9aa8eaf3-1f88-48f0-b1ba-8d8d92119a0b",
   "metadata": {},
   "outputs": [
    {
     "ename": "AttributeError",
     "evalue": "module 'ResidualDecomposition' has no attribute 'residual_shap_WLSN'",
     "output_type": "error",
     "traceback": [
      "\u001b[0;31m---------------------------------------------------------------------------\u001b[0m",
      "\u001b[0;31mAttributeError\u001b[0m                            Traceback (most recent call last)",
      "\u001b[0;32m/tmp/ipykernel_2966740/585148278.py\u001b[0m in \u001b[0;36m<module>\u001b[0;34m\u001b[0m\n\u001b[1;32m      1\u001b[0m \u001b[0mt1\u001b[0m \u001b[0;34m=\u001b[0m \u001b[0mtime\u001b[0m\u001b[0;34m.\u001b[0m\u001b[0mtime\u001b[0m\u001b[0;34m(\u001b[0m\u001b[0;34m)\u001b[0m\u001b[0;34m\u001b[0m\u001b[0;34m\u001b[0m\u001b[0m\n\u001b[0;32m----> 2\u001b[0;31m \u001b[0mrkshap\u001b[0m \u001b[0;34m=\u001b[0m \u001b[0mRD\u001b[0m\u001b[0;34m.\u001b[0m\u001b[0mresidual_shap_WLSN\u001b[0m\u001b[0;34m(\u001b[0m\u001b[0mX\u001b[0m\u001b[0;34m,\u001b[0m \u001b[0mY\u001b[0m\u001b[0;34m,\u001b[0m \u001b[0mlr\u001b[0m\u001b[0;34m,\u001b[0m \u001b[0mD\u001b[0m\u001b[0;34m=\u001b[0m\u001b[0;36m10000\u001b[0m\u001b[0;34m)\u001b[0m\u001b[0;34m\u001b[0m\u001b[0;34m\u001b[0m\u001b[0m\n\u001b[0m\u001b[1;32m      3\u001b[0m \u001b[0mt2\u001b[0m \u001b[0;34m=\u001b[0m \u001b[0mtime\u001b[0m\u001b[0;34m.\u001b[0m\u001b[0mtime\u001b[0m\u001b[0;34m(\u001b[0m\u001b[0;34m)\u001b[0m\u001b[0;34m\u001b[0m\u001b[0;34m\u001b[0m\u001b[0m\n\u001b[1;32m      4\u001b[0m \u001b[0;34m\u001b[0m\u001b[0m\n\u001b[1;32m      5\u001b[0m \u001b[0mprint\u001b[0m\u001b[0;34m(\u001b[0m\u001b[0;34m\"Runtime is {}s\"\u001b[0m\u001b[0;34m.\u001b[0m\u001b[0mformat\u001b[0m\u001b[0;34m(\u001b[0m\u001b[0mt2\u001b[0m\u001b[0;34m-\u001b[0m\u001b[0mt1\u001b[0m\u001b[0;34m)\u001b[0m\u001b[0;34m)\u001b[0m\u001b[0;34m\u001b[0m\u001b[0;34m\u001b[0m\u001b[0m\n",
      "\u001b[0;31mAttributeError\u001b[0m: module 'ResidualDecomposition' has no attribute 'residual_shap_WLSN'"
     ]
    }
   ],
   "source": [
    "t1 = time.time()\n",
    "rkshap = RD.residual_shap_WLSN(X, Y, lr, D=10000)\n",
    "t2 = time.time()\n",
    "\n",
    "print(\"Runtime is {}s\".format(t2-t1))"
   ]
  },
  {
   "cell_type": "code",
   "execution_count": null,
   "id": "f4d05e79-5b3d-4697-8704-68e2adf3b9c1",
   "metadata": {},
   "outputs": [],
   "source": [
    "rkcontribution = rkshap.Svals.T * np.sum(rkshap.Svals, axis=0).T"
   ]
  },
  {
   "cell_type": "code",
   "execution_count": null,
   "id": "b84f0f6a-a43e-4d10-8731-c9272eba887c",
   "metadata": {},
   "outputs": [],
   "source": [
    "# Implementation bug, have to multiply some of these by -1\n",
    "plt.figure(figsize=(16,12))\n",
    "\n",
    "plt.subplot(441)\n",
    "plt.title(\"Monte Carlo\", fontsize=16)\n",
    "plt.ylabel(\"CC-Plots\", fontsize=16)\n",
    "plt.scatter(np.mean(mcrshap.phi, axis=0), np.mean(r_contributionS, axis=1), c=Y, s=10)\n",
    "plt.xticks([])\n",
    "plt.yticks([])\n",
    "\n",
    "plt.subplot(442)\n",
    "plt.title(\"All-S-Influence\", fontsize=16)\n",
    "plt.scatter(np.mean(rshap1, axis=0), np.mean(r_contribution1, axis=1) * -1, c=Y, s=10)\n",
    "plt.xticks([])\n",
    "plt.yticks([])\n",
    "\n",
    "plt.subplot(443)\n",
    "plt.title(\"Largest-S-Influence\", fontsize=16)\n",
    "plt.scatter(np.mean(rshap2, axis=0), np.mean(r_contribution2, axis=1) * -1, c=Y, s=10)\n",
    "plt.xticks([])\n",
    "plt.yticks([])\n",
    "\n",
    "plt.subplot(444)\n",
    "plt.title(\"KernelSHAP\", fontsize=16)\n",
    "plt.scatter(np.mean(rkshap.Svals, axis=0), np.mean(rkcontribution, axis=1) * -1, c=Y, s=10)\n",
    "plt.xticks([])\n",
    "plt.yticks([])\n",
    "\n",
    "plt.subplot(445)\n",
    "plt.ylabel(\"Accuracy\", fontsize=16)\n",
    "plt.scatter(np.sum(mcrshap.phi, axis=0), res, c=Y, s=10)\n",
    "\n",
    "plt.xlabel(\"221.5s\", fontsize=12)\n",
    "\n",
    "plt.subplot(446)\n",
    "plt.scatter(np.sum(rshap1, axis=0), res, c=Y, s=10)\n",
    "plt.xlabel(\"13.1s\", fontsize=12)\n",
    "\n",
    "plt.subplot(447)\n",
    "plt.scatter(np.sum(rshap2, axis=0), res, c=Y, s=10)\n",
    "plt.xlabel(\"0.07s\", fontsize=12)\n",
    "\n",
    "plt.subplot(448)\n",
    "plt.scatter(np.sum(rkshap.Svals, axis=0), res, c=Y, s=10)\n",
    "plt.xlabel(\"5.9s\", fontsize=12)\n",
    "\n",
    "# plt.savefig(\"Figures/Boston_methodcomp.pdf\", bbox_inches='tight')"
   ]
  },
  {
   "cell_type": "code",
   "execution_count": null,
   "id": "f25a9344-155b-4843-b348-5fc2b8d45745",
   "metadata": {},
   "outputs": [],
   "source": []
  },
  {
   "cell_type": "code",
   "execution_count": null,
   "id": "002bb1d1-424e-4680-be0b-1c85d2f98364",
   "metadata": {},
   "outputs": [],
   "source": [
    "IRSHAP = RD.ResidualDecompositionSymmetricInfluenceFunctionLinear(X, Y, lr)\n",
    "offsetv = IRSHAP.step(np.arange(0, X.shape[0]))\n",
    "lr.fit(X, Y)\n",
    "res = lr.predict(X) - Y\n",
    "\n",
    "lr.fit(X[1:,:], Y[1:])\n",
    "p1 = lr.predict(X) - Y\n",
    "\n",
    "pdiff = res - p1"
   ]
  },
  {
   "cell_type": "code",
   "execution_count": null,
   "id": "453a9b24-0d1a-41a6-8ed9-15ddec14db39",
   "metadata": {},
   "outputs": [],
   "source": [
    "# Verify Influence calculation works for subset(X) = X\n",
    "\n",
    "vset = np.arange(0, X.shape[0])\n",
    "offsetv = iRSHAP.step(vset)\n",
    "Xs = X[vset,:]\n",
    "Ys = Y[vset]\n",
    "\n",
    "lr.fit(X, Y)\n",
    "res = lr.predict(X) - Y\n",
    "\n",
    "lr.fit(X[1:,:], Y[1:])\n",
    "p1 = lr.predict(X) - Y\n",
    "\n",
    "pdiff = res - p1\n",
    "\n",
    "pred_list = []\n",
    "lr = Ridge()\n",
    "lr.fit(X, Y)\n",
    "res = lr.predict(X) - Y\n",
    "\n",
    "for i in range(0, Xs.shape[0]):\n",
    "    Xtemp = np.delete(X, i, axis=0)\n",
    "    Ytemp = np.delete(Y, i, axis=0)\n",
    "    \n",
    "    lr.fit(Xtemp, Ytemp)\n",
    "    pred_list.append(res - (lr.predict(X) - Y))\n",
    "    \n",
    "pred_list = np.array(pred_list)\n",
    "\n",
    "plt.scatter(offsetv[0], pred_list[0], c=Y)"
   ]
  },
  {
   "cell_type": "code",
   "execution_count": null,
   "id": "34d01619-601d-4827-b59d-eb561d2ecc9a",
   "metadata": {},
   "outputs": [],
   "source": [
    "# Verify Influence calculation works for subset(X) = X[:40]\n",
    "\n",
    "vset = np.arange(0, 40)\n",
    "offsetv = iRSHAP.step(vset)\n",
    "Xs = X[vset,:]\n",
    "Ys = Y[vset]\n",
    "\n",
    "lr.fit(Xs, Ys)\n",
    "res = lr.predict(X) - Y\n",
    "\n",
    "lr.fit(Xs[1:,:], Ys[1:])\n",
    "p1 = lr.predict(X) - Y\n",
    "\n",
    "pdiff = res - p1\n",
    "\n",
    "pred_list = []\n",
    "lr = Ridge()\n",
    "lr.fit(X, Y)\n",
    "res = lr.predict(X) - Y\n",
    "\n",
    "for i in range(0, Xs.shape[0]):\n",
    "    Xtemp = np.delete(X, i, axis=0)\n",
    "    Ytemp = np.delete(Y, i, axis=0)\n",
    "    \n",
    "    lr.fit(Xtemp, Ytemp)\n",
    "    pred_list.append(res - (lr.predict(X) - Y))\n",
    "    \n",
    "pred_list = np.array(pred_list)\n",
    "\n",
    "plt.scatter(offsetv[0], pdiff, c=Y)"
   ]
  },
  {
   "cell_type": "code",
   "execution_count": null,
   "id": "e208ed00-9eec-44db-97c8-55695e8d6bff",
   "metadata": {},
   "outputs": [],
   "source": []
  },
  {
   "cell_type": "code",
   "execution_count": null,
   "id": "1d97cc17-db6d-4f81-9998-1d290908c384",
   "metadata": {},
   "outputs": [],
   "source": []
  }
 ],
 "metadata": {
  "kernelspec": {
   "display_name": "Python 3 (ipykernel)",
   "language": "python",
   "name": "python3"
  },
  "language_info": {
   "codemirror_mode": {
    "name": "ipython",
    "version": 3
   },
   "file_extension": ".py",
   "mimetype": "text/x-python",
   "name": "python",
   "nbconvert_exporter": "python",
   "pygments_lexer": "ipython3",
   "version": "3.9.15"
  }
 },
 "nbformat": 4,
 "nbformat_minor": 5
}

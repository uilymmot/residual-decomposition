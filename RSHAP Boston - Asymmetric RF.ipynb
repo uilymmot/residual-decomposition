{
 "cells": [
  {
   "cell_type": "markdown",
   "id": "03808158-a800-413c-927a-a6005401fb53",
   "metadata": {},
   "source": [
    "Estimated Runtime: 15-20 Hours\n",
    "\n",
    "Required Packages: numpy, pandas, matplotlib, sklearn\n",
    "\n",
    "License: MIT\n",
    "\n",
    "Author: Tommy Liu\n",
    "    "
   ]
  },
  {
   "cell_type": "code",
   "execution_count": 1,
   "id": "b436a1e8-d85c-4a8f-8122-725b449cc4da",
   "metadata": {},
   "outputs": [],
   "source": [
    "import numpy as np\n",
    "import pandas as pd\n",
    "import matplotlib.pyplot as plt\n",
    "import time\n",
    "\n",
    "from sklearn.ensemble import RandomForestRegressor \n",
    "from sklearn.metrics import mean_squared_error\n",
    "from sklearn import linear_model\n",
    "import matplotlib as mpl\n",
    "from sklearn.linear_model import Ridge\n",
    "from sklearn.ensemble import IsolationForest\n",
    "from sklearn.neighbors import LocalOutlierFactor\n",
    "from sklearn.decomposition import PCA\n",
    "from sklearn.model_selection import train_test_split\n",
    "\n",
    "import ResidualDecomposition as RD\n",
    "\n",
    "np.random.seed(0)"
   ]
  },
  {
   "cell_type": "code",
   "execution_count": 2,
   "id": "feb6ce9e-6fb8-41e9-bc12-ab2770886015",
   "metadata": {},
   "outputs": [],
   "source": [
    "data = pd.read_csv(\"Datasets/P_BostonHousing.csv\") \n",
    "X = data.iloc[:,:-1].values\n",
    "Y = data.iloc[:,-1].values\n",
    "\n",
    "X_train, X_test, Y_train, Y_test = train_test_split(X, Y, train_size=0.7)"
   ]
  },
  {
   "cell_type": "code",
   "execution_count": 3,
   "id": "0a161ab3-304b-44fe-a203-6002a86832ae",
   "metadata": {},
   "outputs": [
    {
     "data": {
      "text/plain": [
       "RandomForestRegressor(n_estimators=1000)"
      ]
     },
     "execution_count": 3,
     "metadata": {},
     "output_type": "execute_result"
    }
   ],
   "source": [
    "lr = RandomForestRegressor(n_estimators=1000)\n",
    "lr.fit(X, Y)"
   ]
  },
  {
   "cell_type": "code",
   "execution_count": 4,
   "id": "f4d1c59b-db9c-4be1-a845-70c2279bc292",
   "metadata": {
    "tags": []
   },
   "outputs": [],
   "source": [
    "\n",
    "\n",
    "# t1 = time.time()\n",
    "\n",
    "# rshap_model = RD.ResidualDecompositionAsymmetric()\n",
    "# rshap_model.fit(X_train, X_test, Y_train, Y_test, lr, 1000)\n",
    "# rcomposition = rshap_model.get_composition()\n",
    "# rcontribution = rshap_model.get_contribution()\n",
    "\n",
    "# t2 = time.time()"
   ]
  },
  {
   "cell_type": "code",
   "execution_count": 5,
   "id": "32a9a36f-d08c-4388-8bf7-534ee2a241c9",
   "metadata": {},
   "outputs": [],
   "source": [
    "# dshap = RD.Data_Shapley()\n",
    "# dshap.fit(X_train, X_test, Y_train, Y_test, mean_squared_error, lr, 1000)"
   ]
  },
  {
   "cell_type": "code",
   "execution_count": 6,
   "id": "68b01fea-ec5e-4c75-a375-95e2f953b393",
   "metadata": {},
   "outputs": [],
   "source": [
    "# dshapvals = dshap.shap_vals\n",
    "# rshapvals = rshap"
   ]
  },
  {
   "cell_type": "code",
   "execution_count": 7,
   "id": "50b9c416-d771-4419-b118-ae8e253b3c2f",
   "metadata": {},
   "outputs": [],
   "source": [
    "dshapvals = np.genfromtxt(\"Data/RSHAP_Boston_RF1000.csv\", delimiter=',')"
   ]
  },
  {
   "cell_type": "code",
   "execution_count": null,
   "id": "718eafe4-9c76-4550-a791-b90d3bb575ef",
   "metadata": {},
   "outputs": [],
   "source": []
  },
  {
   "cell_type": "code",
   "execution_count": 8,
   "id": "fa5b9a1e-3a7a-426f-b8b6-0d32186067ac",
   "metadata": {},
   "outputs": [
    {
     "name": "stdout",
     "output_type": "stream",
     "text": [
      "9.468680044342149 [ 2.04102512  0.93370552 -0.14018951  0.69461224 -1.1625027  -2.40064348\n",
      " -2.09641008 -4.43862597  0.59359207  0.39229115  2.61746036  1.52130295\n",
      " -0.54767568  0.06560862  1.87713231  0.5223736  -0.84868468  1.15625847\n",
      " -0.39936599  1.64824085  0.90912452  0.18625611  0.56478099  0.53008745\n",
      "  0.57924957  1.24764254  1.02959794  0.36625638  1.77041776  0.9797643\n",
      "  1.56896648  4.56664253  1.65618904  1.57177883  0.8034974   1.8988484\n",
      "  0.67449083 -0.05243565 -3.65265596 -1.46801772 -0.60222184  1.92132938\n",
      " -1.27527197 -0.72595512  0.2699277   1.05558084  0.43804442  1.77474466\n",
      "  2.30200696  0.15998658  0.91787855  1.30913314 -0.36958736 -2.26609668\n",
      "  0.5042624  -0.8032944  -1.16210997 -0.32071629  0.09961767  1.12168543\n",
      "  1.14827839  2.56790429  1.42168046  0.44226526 -0.03379005  0.46401842\n",
      "  0.90999781 -1.19073291  2.33700824 -0.07852962 -0.39676563 -0.94526395\n",
      "  0.15299006  0.30403065 -0.14869221  0.97902499  0.93000849  0.46398509\n",
      " -0.19824035  0.56199121 -0.70583157  1.53070216 -1.17277485  0.58713799\n",
      " -1.40281988  0.0655525  -1.5542082  -0.22320284  3.92259138  1.26906141\n",
      "  0.03640534  0.60532536 -0.14902345 -0.8652817   0.85063762 -1.19868228\n",
      "  0.31412536  2.32500105 -0.34294292 -0.11568339 -1.50291646 -0.1874776\n",
      "  1.32043334  1.1332866   0.40048006 -0.31737059 -0.71480272  0.04120127\n",
      "  0.71614255 -0.34753618 -0.98774206  0.60803077  0.49574353 -0.05326614\n",
      "  2.60303415  0.57014727 -0.2231071   1.46048855 -0.75132597  1.06829076\n",
      " -0.48733059  0.96582582 -1.0876859  -0.15814256  0.18482781 -1.34951539\n",
      "  0.41742721  0.04561432 -0.59110931  1.11221304  1.04674149  0.73516029\n",
      " -2.2703996  -0.65632806 -0.11479628 -0.83632642 -0.56359462  1.21179964\n",
      "  1.29297602 -1.61526393  0.74399203 -0.22501765  0.81467565 -1.08540087\n",
      "  1.88544064  0.61860317  0.20571596 -0.18860719 -2.43687073 -0.50720769\n",
      " -0.75866155  0.35306922  4.33610737 -2.28904861  0.03490013  0.98830702\n",
      "  1.95931356 -3.81299333 -0.33101652  1.39082685 -2.11845007 -1.9756575\n",
      " -1.14324003 -0.75920524 -1.81534366 -3.16228735 -0.50737911 -2.94501971\n",
      " -2.26066713 -0.79136633  1.43251798  1.57690733 -2.30049125 -0.92022336\n",
      " -1.43827397 -1.51983881 -1.8301185  -0.63349469 -1.36902572 -2.23407205\n",
      "  0.9918941  -5.15478079 -1.74104665 -2.20310635 -2.40099855 -2.91105011\n",
      " -3.38939448 -3.20952764 -0.73022042 -0.53634187 -3.50061795 -0.75821799\n",
      " -1.18910781 -0.84780862  0.23384961 -1.15314309  0.50028502  1.06459537\n",
      " -1.10870009 -1.38643618  0.79089557 -0.60421108  1.70208017  0.04306892\n",
      " -1.01906733 -1.49575786 -2.59192906 -1.89806889 -2.61447434 -1.15020606\n",
      " -1.4742282   0.06581783 -1.05965867 -5.10662392 -2.6643098  -2.27463308\n",
      " -2.11081976 -2.90560576 -1.25126265 -1.24676067  0.8739279  -2.10582751\n",
      " -0.86360129 -3.01442659  0.46741812 -2.96093063  3.55580714  0.30503538\n",
      " -0.89305853 -1.77086243 -3.15730595  0.74600253  1.80749706 -1.46502886\n",
      " -2.00347224 -2.54772446  0.57636081  1.08429061  0.13623545  2.18212339\n",
      "  2.46749373  0.86698506 -0.69308658  0.11923118  1.97831359  0.78223036\n",
      " -2.37465624  0.41831786 -1.85848224 -0.02787081 -0.37565787  0.01849642\n",
      "  1.3735487  -1.11009151  0.80780173 -0.35004388 -0.71851045 -1.45137315\n",
      " -0.68059667 -0.38413169 -0.42661222  0.13029088 -1.05293879  0.49042476\n",
      " -1.41037031 -1.42560909 -1.7183939  -2.09893776  1.03487162  0.24991823\n",
      " -0.29492718 -0.771488   -0.09208836  3.10535272 -1.23247593 -0.17293121\n",
      "  0.82852065 -1.24495411 -3.88223339 -2.39654199  0.60797763 -1.08127565\n",
      " -0.31184866 -1.59680441 -0.2824102   0.44793266  1.51316066  0.28437984\n",
      "  0.93364197 -0.25452721  1.72895431 -2.05471216  0.15577429 -1.57460625\n",
      " -0.60052797 -1.45446754 -1.20497307  0.09716587  1.30077948  2.36874963\n",
      "  2.39625301  2.37113134 -3.27588665 -0.2094581  -1.50056434 -1.17738429\n",
      "  0.8229469   0.35464804  3.15789965  0.36970263  3.75906454  1.3065541\n",
      "  1.097564    0.74895393  0.34944831  3.8465795   0.93805008 -0.10869797\n",
      " -1.6151801  -0.01113032  0.01961263  0.66027452  1.11311398  1.51865712\n",
      " -1.17320704 -0.41878143  0.77607502 -1.39443344  1.31676586  0.93467287\n",
      "  2.16439746  2.60885642  1.11677908  1.11728296  2.51402559 -0.3916579\n",
      "  0.86393207  1.7612292   0.28890622  1.49038224  1.97876587  0.57581298\n",
      "  5.5066993   2.10136339 -0.26926472  2.69481386  2.69759462  0.73525884\n",
      "  1.56924279  0.44573965  0.60787279  1.58856394  2.21448329 -0.01672364\n",
      "  1.81234941  1.05463615 -2.12448125 -0.96138163 -1.75657248 -1.84595367\n",
      " -1.96946394  0.64705487 -0.40137496  1.2742465   8.18960589 -3.02366343\n",
      " -1.74297867 -3.05955592 -5.00192269 -3.18768566 -4.84545363 -3.8955149\n",
      " -4.08388107 -1.04122898 -1.04787728  5.98473699 -1.38868872 -0.41473116\n",
      " -1.24876026  1.0490046   3.79373804  0.09382791  0.04493129 -1.08546758\n",
      " -0.13637349  1.19882676 -1.84967771  0.89289505 -1.14136272  0.03947516\n",
      " -0.49384408 -3.88370892  0.03055288  0.73504683 -0.55747532  0.88579348\n",
      "  1.34491719  2.92501754  1.74198361  2.43854006  1.87373803  2.15339844\n",
      " -0.54982468  1.72726735 -0.41929983  2.47792818  0.62882806  0.98365686\n",
      " -1.35736021 -3.77215679  5.85913998 -0.96733273 -1.88323814 -0.65344779\n",
      "  0.98916761  1.12230074  1.86658313 -1.58309819 -0.0298523   2.19340715\n",
      " -1.35263096  0.862395   -0.65697191 -0.18451478  1.76239011  0.82663219\n",
      "  2.61638212  2.37604407  0.65757704  1.2072084  -0.05638714  2.69223468\n",
      "  3.37264865  0.90022751  0.93885414 -1.24392335  1.4803387   0.41597142\n",
      "  0.42940227 -1.0764725  -0.59651768 -2.27664765 -1.99975429 -0.72274309\n",
      " -0.59442812 -0.60377024  0.03701762  1.83858738  0.50715892  1.04012558\n",
      "  1.02766013  0.33722724  0.06159359  1.16262337 -0.70644187  0.83831755\n",
      "  1.91174407  1.08502553  0.05337252 -1.10542297 -0.64968991  1.04786335\n",
      "  1.10391356  0.95638407 -0.5741784   0.44894181 -2.26710605 -3.15720061\n",
      " -1.95512773 -1.10415202 -1.4280996   1.05849392 -2.64543217 -2.15747076\n",
      "  0.84466446  1.26026207 -0.63356687  0.67884263  0.09728527 -0.82675781\n",
      " -1.88426543  2.37790633  2.86144182 -1.27688316 -0.10167239 -0.06921854\n",
      "  0.03327015  0.12202689 -0.0382017   3.10874502  1.54812238  1.56764551\n",
      "  0.26837671 -1.4509577  -3.82084958 -2.05684707 -0.52375225  1.91204485\n",
      " -0.54578269  1.61843555  3.24116469  0.91948996  0.07774862  1.8390773\n",
      "  2.64472353  5.96640744]\n"
     ]
    }
   ],
   "source": [
    "lr.fit(X_train, Y_train)\n",
    "sc = mean_squared_error(lr.predict(X_test), Y_test)\n",
    "\n",
    "print(sc, np.sum(dshapvals, axis=0))"
   ]
  },
  {
   "cell_type": "code",
   "execution_count": 9,
   "id": "4979bf8c-ffa0-49f8-ab0d-b1735e2be2c9",
   "metadata": {},
   "outputs": [
    {
     "data": {
      "text/plain": [
       "4.561106418868405"
      ]
     },
     "execution_count": 9,
     "metadata": {},
     "output_type": "execute_result"
    }
   ],
   "source": [
    "np.sum(dshapvals)"
   ]
  },
  {
   "cell_type": "code",
   "execution_count": 10,
   "id": "e4b3dc13-4c8b-44aa-a9e4-deeba33de695",
   "metadata": {},
   "outputs": [
    {
     "ename": "NameError",
     "evalue": "name 'rshap' is not defined",
     "output_type": "error",
     "traceback": [
      "\u001b[0;31m---------------------------------------------------------------------------\u001b[0m",
      "\u001b[0;31mNameError\u001b[0m                                 Traceback (most recent call last)",
      "\u001b[0;32m/tmp/ipykernel_1760847/1203491784.py\u001b[0m in \u001b[0;36m<module>\u001b[0;34m\u001b[0m\n\u001b[0;32m----> 1\u001b[0;31m \u001b[0mrpred\u001b[0m \u001b[0;34m=\u001b[0m \u001b[0mnp\u001b[0m\u001b[0;34m.\u001b[0m\u001b[0msum\u001b[0m\u001b[0;34m(\u001b[0m\u001b[0mrshap\u001b[0m\u001b[0;34m,\u001b[0m \u001b[0maxis\u001b[0m\u001b[0;34m=\u001b[0m\u001b[0;36m0\u001b[0m\u001b[0;34m)\u001b[0m\u001b[0;34m\u001b[0m\u001b[0;34m\u001b[0m\u001b[0m\n\u001b[0m\u001b[1;32m      2\u001b[0m \u001b[0;34m\u001b[0m\u001b[0m\n\u001b[1;32m      3\u001b[0m \u001b[0mr_contribution\u001b[0m \u001b[0;34m=\u001b[0m \u001b[0;34m(\u001b[0m\u001b[0;34m(\u001b[0m\u001b[0;34m(\u001b[0m\u001b[0mrshap\u001b[0m \u001b[0;34m**\u001b[0m \u001b[0;36m2\u001b[0m\u001b[0;34m)\u001b[0m \u001b[0;34m*\u001b[0m \u001b[0;34m-\u001b[0m\u001b[0mnp\u001b[0m\u001b[0;34m.\u001b[0m\u001b[0msign\u001b[0m\u001b[0;34m(\u001b[0m\u001b[0mrpred\u001b[0m\u001b[0;34m)\u001b[0m\u001b[0;34m)\u001b[0m\u001b[0;34m)\u001b[0m\u001b[0;34m\u001b[0m\u001b[0;34m\u001b[0m\u001b[0m\n",
      "\u001b[0;31mNameError\u001b[0m: name 'rshap' is not defined"
     ]
    }
   ],
   "source": [
    "rpred = np.sum(rshap, axis=0)\n",
    "\n",
    "r_contribution = (((rshap ** 2) * -np.sign(rpred))) "
   ]
  },
  {
   "cell_type": "code",
   "execution_count": null,
   "id": "92fedf6a-f5bb-44a2-abdb-ab3e8c1ea4cb",
   "metadata": {},
   "outputs": [],
   "source": [
    "r_contribution.shape, rshap.shape"
   ]
  },
  {
   "cell_type": "code",
   "execution_count": null,
   "id": "f2780d0d-c5cb-4680-9352-b7b86458cd1c",
   "metadata": {},
   "outputs": [],
   "source": [
    "plt.xlabel(\"RSHAP Values\")\n",
    "plt.ylabel(\"DSHAP Values\")\n",
    "\n",
    "plt.scatter(np.mean(r_contribution, axis=1), dshapvals, c=Y_train)"
   ]
  },
  {
   "cell_type": "code",
   "execution_count": null,
   "id": "85010a1f-1604-4e1e-808c-34c3a02749a1",
   "metadata": {},
   "outputs": [],
   "source": [
    "# Removing the 'most' important instances\n",
    "\n",
    "dshapscore = []\n",
    "rshapscore = []\n",
    "randomscore = []\n",
    "\n",
    "dsorted = np.argsort(dshapvals)[::-1]\n",
    "rsorted = np.argsort((np.mean(rshapvals, axis=1)))\n",
    "ranted = np.random.permutation(np.arange(0, X_train.shape[0]))\n",
    "\n",
    "for i in reversed(range(X_train.shape[0]//2, X_train.shape[0])):\n",
    "    Xs = X_train[dsorted[:i]]\n",
    "    Ys = Y_train[dsorted[:i]]\n",
    "    \n",
    "    lr.fit(Xs, Ys)\n",
    "    dshapscore.append(mean_squared_error(lr.predict(X_test), Y_test))\n",
    "    \n",
    "    Xs = X_train[rsorted[:i]]\n",
    "    Ys = Y_train[rsorted[:i]]\n",
    "    \n",
    "    lr.fit(Xs, Ys)\n",
    "    rshapscore.append(mean_squared_error(lr.predict(X_test), Y_test))\n",
    "    \n",
    "\n",
    "\n",
    "for j in range(0, 5):\n",
    "    tempscore = []\n",
    "    for i in reversed(range(X_train.shape[0]//2, X_train.shape[0])):\n",
    "        Xs = X_train[ranted[:i]]\n",
    "        Ys = Y_train[ranted[:i]]\n",
    "\n",
    "        lr.fit(Xs, Ys)\n",
    "        tempscore.append(mean_squared_error(lr.predict(X_test), Y_test))\n",
    "    randomscore.append(tempscore)\n",
    "    print(j)"
   ]
  },
  {
   "cell_type": "code",
   "execution_count": null,
   "id": "c250e4fa-4ccd-414a-9815-31f00e9cf0f1",
   "metadata": {},
   "outputs": [],
   "source": []
  },
  {
   "cell_type": "code",
   "execution_count": null,
   "id": "dd5883bf-67f9-4f9c-9694-9b4761e9d88b",
   "metadata": {},
   "outputs": [],
   "source": [
    "plt.ylabel(\"MSE Score\")\n",
    "\n",
    "plt.title(\"Removing Largest Contributors to Loss\")\n",
    "\n",
    "plt.plot(dshapscore, label='dshap')\n",
    "plt.plot(rshapscore, label='rshap')\n",
    "plt.plot(np.mean(randomscore, axis=0), label='random')\n",
    "\n",
    "plt.legend()"
   ]
  },
  {
   "cell_type": "code",
   "execution_count": null,
   "id": "291cc5f9-3a20-43ed-a14a-597459539561",
   "metadata": {},
   "outputs": [],
   "source": [
    "dshapscore = []\n",
    "rshapscore = []\n",
    "randomscore = []\n",
    "\n",
    "dsorted = np.argsort(np.abs(dshapvals))[::-1]\n",
    "rsorted = np.argsort(np.abs(np.mean(r_contribution, axis=1)))[::-1]\n",
    "ranted = np.random.permutation(np.arange(0, X_train.shape[0]))\n",
    "\n",
    "for i in reversed(range(X_train.shape[0]//2, X_train.shape[0])):\n",
    "    Xs = X_train[dsorted[:i]]\n",
    "    Ys = Y_train[dsorted[:i]]\n",
    "    \n",
    "    lr.fit(Xs, Ys)\n",
    "    dshapscore.append(mean_squared_error(lr.predict(X_test), Y_test))\n",
    "    \n",
    "    Xs = X_train[rsorted[:i]]\n",
    "    Ys = Y_train[rsorted[:i]]\n",
    "    \n",
    "    lr.fit(Xs, Ys)\n",
    "    rshapscore.append(mean_squared_error(lr.predict(X_test), Y_test))\n",
    "    \n",
    "    Xs = X_train[ranted[:i]]\n",
    "    Ys = Y_train[ranted[:i]]\n",
    "    \n",
    "    lr.fit(Xs, Ys)\n",
    "    randomscore.append(mean_squared_error(lr.predict(X_test), Y_test))"
   ]
  },
  {
   "cell_type": "code",
   "execution_count": null,
   "id": "d11ec8da-7c0c-4ba9-a1e0-274a0a78e3fa",
   "metadata": {},
   "outputs": [],
   "source": [
    "plt.ylabel(\"MSE Score\")\n",
    "\n",
    "plt.title(\"Removing Smallest Contributors to Loss\")\n",
    "plt.plot(dshapscore, label='dshap')\n",
    "plt.plot(rshapscore, label='rshap')\n",
    "plt.plot(randomscore, label='random')\n",
    "\n",
    "plt.legend()"
   ]
  },
  {
   "cell_type": "code",
   "execution_count": null,
   "id": "7523a247-5047-4793-8895-e57532a60410",
   "metadata": {},
   "outputs": [],
   "source": [
    "# Removing the 'most' important instances\n",
    "\n",
    "dshapscore1 = []\n",
    "dshapscore2 = []\n",
    "rshapscore1 = []\n",
    "rshapscore2 = []\n",
    "randomscore = []\n",
    "\n",
    "dsorted = np.argsort(np.abs(dshapvals))\n",
    "dsortedr = np.argsort(np.abs(dshapvals))[::-1]\n",
    "rsorted = np.argsort(np.mean(r_contribution, axis=1))\n",
    "rsortedr = np.argsort(np.mean(r_contribution, axis=1))[::-1]\n",
    "\n",
    "for i in reversed(range(X_train.shape[0]//2, X_train.shape[0])):\n",
    "    Xs = X_train[dsorted[:i]]\n",
    "    Ys = Y_train[dsorted[:i]]\n",
    "    \n",
    "    lr.fit(Xs, Ys)\n",
    "    dshapscore1.append(mean_squared_error(lr.predict(X_test), Y_test))\n",
    "    \n",
    "    Xs = X_train[dsortedr[:i]]\n",
    "    Ys = Y_train[dsortedr[:i]]\n",
    "    \n",
    "    lr.fit(Xs, Ys)\n",
    "    dshapscore2.append(mean_squared_error(lr.predict(X_test), Y_test))\n",
    "    \n",
    "    Xs = X_train[rsorted[:i]]\n",
    "    Ys = Y_train[rsorted[:i]]\n",
    "    \n",
    "    lr.fit(Xs, Ys)\n",
    "    rshapscore1.append(mean_squared_error(lr.predict(X_test), Y_test))\n",
    "    \n",
    "    Xs = X_train[rsortedr[:i]]\n",
    "    Ys = Y_train[rsortedr[:i]]\n",
    "    \n",
    "    lr.fit(Xs, Ys)\n",
    "    rshapscore2.append(mean_squared_error(lr.predict(X_test), Y_test))\n",
    "    \n",
    "    Xs = X_train[ranted[:i]]\n",
    "    Ys = Y_train[ranted[:i]]\n",
    "    \n",
    "    lr.fit(Xs, Ys)\n",
    "    randomscore.append(mean_squared_error(lr.predict(X_test), Y_test))\n"
   ]
  },
  {
   "cell_type": "code",
   "execution_count": null,
   "id": "5531b7b8-26fe-4aa7-b58f-ab1bb0b966a5",
   "metadata": {},
   "outputs": [],
   "source": [
    "randomscore = []\n",
    "for j in range(0, 10):\n",
    "    ranted = np.random.permutation(np.arange(0, X_train.shape[0]))\n",
    "    \n",
    "    tempscore = []\n",
    "    for i in reversed(range(X_train.shape[0]//2, X_train.shape[0])):\n",
    "        Xs = X_train[ranted[:i]]\n",
    "        Ys = Y_train[ranted[:i]]\n",
    "\n",
    "        lr.fit(Xs, Ys)\n",
    "        tempscore.append(mean_squared_error(lr.predict(X_test), Y_test))\n",
    "    randomscore.append(tempscore)\n",
    "    print(j)"
   ]
  },
  {
   "cell_type": "code",
   "execution_count": null,
   "id": "ec8df5ab-5ff6-4ea9-ab2d-87e38700756e",
   "metadata": {},
   "outputs": [],
   "source": [
    "plt.ylabel(\"MSE Score\")\n",
    "\n",
    "plt.plot(rshapscore1, label='Largest Decreasers of Loss (RSHAP)', c=\"#fde725\")\n",
    "plt.plot(rshapscore2, label='Largest Increasers of Loss (RSHAP)', c=\"#5ec962\")\n",
    "plt.plot(dshapscore1, label='Largest Decreasers of Loss (DSHAP)', c=\"#21918c\")\n",
    "plt.plot(dshapscore2, label='Largest Increasers of Loss (DSHAP)', c=\"#3b528b\")\n",
    "plt.plot(np.mean(randomscore, axis=0), label='Random', c=\"#440154\")\n",
    "\n",
    "plt.legend()"
   ]
  },
  {
   "cell_type": "code",
   "execution_count": null,
   "id": "4fcd6c8b-c66f-49bb-949a-09c48fbcfe31",
   "metadata": {},
   "outputs": [],
   "source": [
    "# Removing the 'most' important instances\n",
    "\n",
    "dshapscore1 = []\n",
    "dshapscore2 = []\n",
    "rshapscore1 = []\n",
    "rshapscore2 = []\n",
    "\n",
    "dsorted = np.argsort((dshapvals))\n",
    "dsortedr = np.argsort((dshapvals))[::-1]\n",
    "rsorted = np.argsort(np.mean(r_contribution ** 2, axis=1))\n",
    "rsortedr = np.argsort(np.mean(r_contribution ** 2, axis=1))[::-1]\n",
    "\n",
    "for i in reversed(range(X_train.shape[0]//2, X_train.shape[0])):\n",
    "    Xs = X_train[dsorted[:i]]\n",
    "    Ys = Y_train[dsorted[:i]]\n",
    "    \n",
    "    lr.fit(Xs, Ys)\n",
    "    dshapscore1.append(mean_squared_error(lr.predict(X_test), Y_test))\n",
    "    \n",
    "    Xs = X_train[dsortedr[:i]]\n",
    "    Ys = Y_train[dsortedr[:i]]\n",
    "    \n",
    "    lr.fit(Xs, Ys)\n",
    "    dshapscore2.append(mean_squared_error(lr.predict(X_test), Y_test))\n",
    "    \n",
    "    Xs = X_train[rsorted[:i]]\n",
    "    Ys = Y_train[rsorted[:i]]\n",
    "    \n",
    "    lr.fit(Xs, Ys)\n",
    "    rshapscore1.append(mean_squared_error(lr.predict(X_test), Y_test))\n",
    "    \n",
    "    Xs = X_train[rsortedr[:i]]\n",
    "    Ys = Y_train[rsortedr[:i]]\n",
    "    \n",
    "    lr.fit(Xs, Ys)\n",
    "    rshapscore2.append(mean_squared_error(lr.predict(X_test), Y_test))\n",
    "\n"
   ]
  },
  {
   "cell_type": "code",
   "execution_count": null,
   "id": "a6de39b0-fd71-47bd-aa61-dd5604bc4695",
   "metadata": {},
   "outputs": [],
   "source": [
    "plt.figure(figsize=(14,10))\n",
    "\n",
    "plt.plot(rshapscore1, label='Largest Contribution', c=\"#fde725\", linewidth=3)\n",
    "plt.plot(rshapscore2, label='Smallest Contribution', c=\"#5ec962\", linewidth=3)\n",
    "plt.plot(dshapscore1, label='Largest Value', c=\"#21918c\", linewidth=3)\n",
    "plt.plot(dshapscore2, label='Smallest Value', c=\"#3b528b\", linewidth=3)\n",
    "plt.plot(np.mean(randomscore, axis=0), label='Random', c=\"#440154\", linewidth=3)\n",
    "\n",
    "plt.legend(fontsize=16)\n",
    "plt.xticks([0,X_train.shape[0]//2 - X_train.shape[0]//4, X_train.shape[0]//2], [100, 75, 50], fontsize=20)\n",
    "plt.xlabel(\"Percentage of Remaining Training Data\", fontsize=20)\n",
    "plt.ylabel(\"MSE Score\", fontsize=20)\n",
    "plt.yticks(fontsize=16)\n",
    "\n",
    "plt.savefig(\"Figures/boston_dshap_vs_rshap_rf.pdf\", bbox_inches='tight')\n",
    "\n",
    "plt.xlim([0, X_train.shape[0]//2])"
   ]
  },
  {
   "cell_type": "code",
   "execution_count": null,
   "id": "7a867a11-bd80-4b55-80e7-65bc59f775dc",
   "metadata": {},
   "outputs": [],
   "source": []
  },
  {
   "cell_type": "code",
   "execution_count": null,
   "id": "c0e95160-d8c2-43a1-aa43-3c6a51ed9965",
   "metadata": {},
   "outputs": [],
   "source": [
    "plt.plot(np.sort(dshapvals))"
   ]
  },
  {
   "cell_type": "code",
   "execution_count": null,
   "id": "f20e99b0-9c2d-4c03-88d9-34f4c7fb94c6",
   "metadata": {},
   "outputs": [],
   "source": [
    "np.sign(rpred).shape"
   ]
  },
  {
   "cell_type": "code",
   "execution_count": null,
   "id": "f13ca791-17d1-4f0d-a283-556681722505",
   "metadata": {},
   "outputs": [],
   "source": [
    "r_contribution.shape, rshap.shape"
   ]
  },
  {
   "cell_type": "code",
   "execution_count": null,
   "id": "88299905-13e2-49e4-8977-a2cc7a35f297",
   "metadata": {},
   "outputs": [],
   "source": [
    "rpred = np.sum(rshap, axis=0)\n",
    "\n",
    "r_contribution = ((rshap * -np.sign(rpred)))"
   ]
  },
  {
   "cell_type": "code",
   "execution_count": null,
   "id": "1c8021f3-5f43-4459-843f-0a86b8a2b271",
   "metadata": {},
   "outputs": [],
   "source": [
    "r_contribution.shape"
   ]
  },
  {
   "cell_type": "code",
   "execution_count": null,
   "id": "a95ab08e-553f-4bb0-aca1-e4a2b4f370e2",
   "metadata": {},
   "outputs": [],
   "source": []
  },
  {
   "cell_type": "code",
   "execution_count": null,
   "id": "496cb17b-9d0a-4985-8f27-82f437f4e483",
   "metadata": {},
   "outputs": [],
   "source": [
    "sY = np.argsort(Y_train)\n",
    "\n",
    "plt.plot(Y_train[sY], np.mean(r_contribution, axis=1)[sY])"
   ]
  },
  {
   "cell_type": "code",
   "execution_count": null,
   "id": "e886bba6-378f-45c4-bcab-0001da09d895",
   "metadata": {},
   "outputs": [],
   "source": [
    "AA = (r_contribution @ r_contribution.T)"
   ]
  },
  {
   "cell_type": "code",
   "execution_count": null,
   "id": "176cb0f6-421c-4858-9a6a-5b6d9a93ce7a",
   "metadata": {},
   "outputs": [],
   "source": [
    "itotal_contributions = np.sum(np.abs(r_contribution), axis=1)"
   ]
  },
  {
   "cell_type": "code",
   "execution_count": null,
   "id": "88e7a76e-12bb-4704-bcf9-45841adb9b94",
   "metadata": {},
   "outputs": [],
   "source": [
    "plt.scatter(Y_train, itotal_contributions, c=Y_train)\n",
    "\n",
    "plt.xlabel(\"Energy of Fermi Level\")\n",
    "plt.ylabel(\"Total Contribution of instance\")"
   ]
  },
  {
   "cell_type": "code",
   "execution_count": null,
   "id": "ce4f6d3e-c8b4-4ddf-9642-4cb54211bc90",
   "metadata": {},
   "outputs": [],
   "source": [
    "itotal_composition = np.sum(np.abs(rshap), axis=0)"
   ]
  },
  {
   "cell_type": "code",
   "execution_count": null,
   "id": "2cb9af67-c7a0-40de-9412-e1eb3b460843",
   "metadata": {},
   "outputs": [],
   "source": [
    "plt.figure(figsize=(14,10))\n",
    "\n",
    "plt.scatter(Y_test, itotal_composition, c=Y_test, s=40)\n",
    "\n",
    "plt.xlabel(\"Energy of Fermi Level\")\n",
    "plt.ylabel(\"Total Composition of instance\")"
   ]
  },
  {
   "cell_type": "code",
   "execution_count": null,
   "id": "9a3eb753-2760-4fe8-a45a-8e9704583a8e",
   "metadata": {},
   "outputs": [],
   "source": [
    "plt.scatter(np.mean(rshap, axis=0), np.mean(r_contribution, axis=1), c=Y_test)"
   ]
  },
  {
   "cell_type": "code",
   "execution_count": null,
   "id": "4866a943-6681-42a8-aa5c-fc09764b5584",
   "metadata": {},
   "outputs": [],
   "source": []
  },
  {
   "cell_type": "code",
   "execution_count": null,
   "id": "c401d61c-ca3e-4511-8594-8de64a4ad81e",
   "metadata": {
    "tags": []
   },
   "outputs": [],
   "source": [
    "lr = RandomForestRegressor(n_estimators=200, max_depth=7)\n",
    "lr.fit(X, Y)\n",
    "\n",
    "t1 = time.time()\n",
    "\n",
    "rshap_model = class_files.residual_shap_MC(X, Y, lr, niter=1000)\n",
    "rshap = rshap_model.phi\n",
    "\n",
    "t2 = time.time()"
   ]
  },
  {
   "cell_type": "code",
   "execution_count": null,
   "id": "aa603df0-bb93-456e-b96f-1170fb6669f4",
   "metadata": {},
   "outputs": [],
   "source": [
    "(t2-t1 ) / (60 * 60)"
   ]
  },
  {
   "cell_type": "code",
   "execution_count": null,
   "id": "b9dca7da-cc44-4a14-9ddf-c3477c9febdb",
   "metadata": {},
   "outputs": [],
   "source": [
    "rshap 36 * 42"
   ]
  },
  {
   "cell_type": "code",
   "execution_count": null,
   "id": "e3ef2010-b2b6-4246-b7ff-302adbabd591",
   "metadata": {},
   "outputs": [],
   "source": [
    "rpred = np.sum(rshap, axis=0)\n",
    "\n",
    "rshap_norm = ((rshap.T * -np.sign(rpred))).T \n",
    "\n",
    "r_contribution = ((rshap.T * -np.sign(rpred))).T "
   ]
  },
  {
   "cell_type": "code",
   "execution_count": null,
   "id": "e2ffe366-e384-4ee3-82b7-5e9bb73cbe94",
   "metadata": {},
   "outputs": [],
   "source": [
    "plt.figure(figsize=(14,10))\n",
    "\n",
    "plt.scatter(np.mean(rshap, axis=0), np.mean(r_contribution, axis=1), c=Y, s=40)\n",
    "\n",
    "plt.grid(True)\n",
    "\n",
    "plt.xlabel(\"Composition Mean\", fontsize=20)\n",
    "plt.ylabel(\"Contribution Mean\", fontsize=20)\n",
    "plt.axvline(0, c='red')\n",
    "plt.axhline(0, c='orange')\n",
    "\n",
    "plt.xticks(fontsize=16)\n",
    "plt.yticks(fontsize=16)\n",
    "\n",
    "cbar = plt.colorbar()\n",
    "cbar.ax.tick_params(labelsize=16)\n",
    "\n",
    "plt.savefig(\"Figures/boston_rshap_rf_1000.pdf\", bbox_inches='tight')"
   ]
  },
  {
   "cell_type": "code",
   "execution_count": null,
   "id": "70fa331a-af79-4118-a3f2-b616aadc55d6",
   "metadata": {},
   "outputs": [],
   "source": [
    "iso_forest = IsolationForest(n_estimators=1000)\n",
    "iso_forest.fit(r_contribution)\n",
    "\n",
    "iso_predicted = iso_forest.predict(r_contribution)\n",
    "\n",
    "iso_int = np.where(iso_predicted == -1)\n",
    "iso_out = np.where(iso_predicted == 1)\n",
    "\n",
    "plt.figure(figsize=(14,10))\n",
    "\n",
    "plt.xlabel(\"Composition Mean\", fontsize=20)\n",
    "plt.ylabel(\"Contribution Mean\", fontsize=20)\n",
    "plt.axvline(0, c='red')\n",
    "plt.axhline(0, c='orange')\n",
    "\n",
    "plt.xticks(fontsize=16)\n",
    "plt.yticks(fontsize=16)\n",
    "\n",
    "plt.scatter(np.mean(rshap, axis=0)[iso_int], np.mean(r_contribution, axis=1)[iso_int], c='r', s=40, label='Outliers')\n",
    "plt.scatter(np.mean(rshap, axis=0)[iso_out], np.mean(r_contribution, axis=1)[iso_out], c='orange', s=40, label='Inliers')\n",
    "\n",
    "plt.grid(True)\n",
    "\n"
   ]
  },
  {
   "cell_type": "code",
   "execution_count": null,
   "id": "0dead8c9-b076-4957-9726-0cd8e87548c6",
   "metadata": {},
   "outputs": [],
   "source": [
    "iso_forest = IsolationForest(n_estimators=1000)\n",
    "iso_forest.fit(X)\n",
    "\n",
    "iso_predicted = iso_forest.predict(X)\n",
    "\n",
    "iso_int = np.where(iso_predicted == -1)\n",
    "iso_out = np.where(iso_predicted == 1)\n",
    "\n",
    "plt.figure(figsize=(14,10))\n",
    "\n",
    "plt.xlabel(\"Composition Mean\", fontsize=20)\n",
    "plt.ylabel(\"Contribution Mean\", fontsize=20)\n",
    "plt.axvline(0, c='red')\n",
    "plt.axhline(0, c='orange')\n",
    "\n",
    "plt.xticks(fontsize=16)\n",
    "plt.yticks(fontsize=16)\n",
    "\n",
    "plt.scatter(np.mean(rshap, axis=0)[iso_int], np.mean(r_contribution, axis=1)[iso_int], c='r', s=40, label='Outliers')\n",
    "plt.scatter(np.mean(rshap, axis=0)[iso_out], np.mean(r_contribution, axis=1)[iso_out], c='orange', s=40, label='Inliers')\n",
    "plt.legend(fontsize=16)\n",
    "\n",
    "plt.grid(True)"
   ]
  },
  {
   "cell_type": "code",
   "execution_count": null,
   "id": "a5c680ed-766c-4030-86ed-39850fd57626",
   "metadata": {},
   "outputs": [],
   "source": [
    "lr = RandomForestRegressor(n_estimators=200, max_depth=7)\n",
    "lr.fit(X, Y)\n",
    "\n",
    "res = lr.predict(X) - Y\n",
    "\n",
    "plt.scatter(np.sum(rshap, axis=0), res, c=Y)"
   ]
  },
  {
   "cell_type": "code",
   "execution_count": null,
   "id": "1323c1bd-39ab-4820-9ea7-38ffdb758215",
   "metadata": {},
   "outputs": [],
   "source": [
    "Y[180]"
   ]
  },
  {
   "cell_type": "code",
   "execution_count": null,
   "id": "1b77e41c-7964-4669-9513-764e3f99209f",
   "metadata": {},
   "outputs": [],
   "source": [
    "cmap = mpl.cm.get_cmap(\"viridis\")\n",
    "\n",
    "plt.figure(figsize=(20, 8))\n",
    "\n",
    "i_instance = 180\n",
    "\n",
    "i_residual = res[i_instance]\n",
    "\n",
    "composition_values = rshap[:,i_instance]\n",
    "composition_orders = np.argsort(composition_values)\n",
    "composition_ordered = composition_values[composition_orders]\n",
    "Y_ordered = Y[composition_orders]\n",
    "\n",
    "less_zero = np.where(composition_ordered < 0)[0]\n",
    "more_zero = np.where(composition_ordered > 0)[0]  \n",
    "current_Y = np.sum(composition_ordered[less_zero])\n",
    "\n",
    "for i in range(0, more_zero.shape[0]):\n",
    "    current_index = more_zero[i]\n",
    "    current_height = np.abs(composition_ordered[current_index])\n",
    "    Y_color = cmap(Y_ordered[current_index] / 50)\n",
    "    plt.barh(0, current_height, 0.1, current_Y, color=Y_color)\n",
    "    current_Y += current_height\n",
    "    \n",
    "plt.axvline(current_Y, c='r', linewidth=5)\n",
    "\n",
    "for i in range(0, less_zero.shape[0]):\n",
    "    current_index = less_zero[i]\n",
    "    current_height = np.abs(composition_ordered[current_index])\n",
    "    Y_color = cmap(Y_ordered[current_index] / 50)\n",
    "    plt.barh(0, current_height, 0.1, current_Y, color=Y_color)\n",
    "    current_Y += current_height\n",
    "    \n",
    "plt.xlabel(\"Residual Value\", fontsize=20)\n",
    "plt.xticks(fontsize=16)\n",
    "plt.yticks([])\n",
    "\n",
    "from matplotlib.cm import ScalarMappable\n",
    "sm = ScalarMappable(cmap=cmap, norm=plt.Normalize(0,50))\n",
    "sm.set_array([])\n",
    "\n",
    "plt.barh(0,0, 0.2)\n",
    "\n",
    "cbar = plt.colorbar(sm)\n",
    "cbar.set_label('Y-Value of Contributing Instance', rotation=270,labelpad=25, fontsize=20)\n",
    "plt.xlim(-25, 25)"
   ]
  },
  {
   "cell_type": "code",
   "execution_count": null,
   "id": "37a1f0bd-eae3-4020-add2-a53d70a69a31",
   "metadata": {},
   "outputs": [],
   "source": []
  },
  {
   "cell_type": "code",
   "execution_count": null,
   "id": "9dfd8b2c-bb4a-4b40-aab6-04dfd1942df4",
   "metadata": {},
   "outputs": [],
   "source": []
  },
  {
   "cell_type": "code",
   "execution_count": null,
   "id": "086678fc-5395-40ff-8218-41420762181e",
   "metadata": {},
   "outputs": [],
   "source": []
  },
  {
   "cell_type": "code",
   "execution_count": null,
   "id": "6dc0cc1f-1560-4468-bc89-81b7c93981d9",
   "metadata": {},
   "outputs": [],
   "source": []
  },
  {
   "cell_type": "code",
   "execution_count": null,
   "id": "0e608337-9361-40c5-a356-3777afa50556",
   "metadata": {},
   "outputs": [],
   "source": []
  },
  {
   "cell_type": "code",
   "execution_count": null,
   "id": "ba0bf3b9-e027-43ce-ab25-cef9fef6b130",
   "metadata": {},
   "outputs": [],
   "source": []
  },
  {
   "cell_type": "code",
   "execution_count": null,
   "id": "a93bcf36-31e1-4299-b3e4-4ea4daab6e3d",
   "metadata": {},
   "outputs": [],
   "source": []
  }
 ],
 "metadata": {
  "kernelspec": {
   "display_name": "Python 3 (ipykernel)",
   "language": "python",
   "name": "python3"
  },
  "language_info": {
   "codemirror_mode": {
    "name": "ipython",
    "version": 3
   },
   "file_extension": ".py",
   "mimetype": "text/x-python",
   "name": "python",
   "nbconvert_exporter": "python",
   "pygments_lexer": "ipython3",
   "version": "3.9.15"
  }
 },
 "nbformat": 4,
 "nbformat_minor": 5
}
